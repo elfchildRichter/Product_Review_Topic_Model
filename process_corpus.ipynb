{
  "cells": [
    {
      "cell_type": "markdown",
      "source": [
        "# Import and Setting"
      ],
      "metadata": {
        "id": "GjJokv1JALsY"
      }
    },
    {
      "cell_type": "code",
      "execution_count": null,
      "metadata": {
        "colab": {
          "base_uri": "https://localhost:8080/"
        },
        "id": "1pMpGRC3ygsm",
        "outputId": "0a72f9d3-0828-40aa-e21a-0f507b6b2b93"
      },
      "outputs": [
        {
          "output_type": "stream",
          "name": "stdout",
          "text": [
            "Mounted at /content/drive\n"
          ]
        }
      ],
      "source": [
        "from google.colab import drive\n",
        "drive.mount('/content/drive')"
      ]
    },
    {
      "cell_type": "code",
      "source": [
        "!pip install -q lda\n",
        "!pip install -q \"tmtoolkit[recommended, lda]\""
      ],
      "metadata": {
        "id": "FLJezfKS8cNe",
        "colab": {
          "base_uri": "https://localhost:8080/"
        },
        "outputId": "6792e560-8212-4664-b895-d4c56581c8a7"
      },
      "execution_count": null,
      "outputs": [
        {
          "output_type": "stream",
          "name": "stdout",
          "text": [
            "\u001b[2K     \u001b[90m━━━━━━━━━━━━━━━━━━━━━━━━━━━━━━━━━━━━━━━━\u001b[0m \u001b[32m349.8/349.8 kB\u001b[0m \u001b[31m6.4 MB/s\u001b[0m eta \u001b[36m0:00:00\u001b[0m\n",
            "\u001b[2K     \u001b[90m━━━━━━━━━━━━━━━━━━━━━━━━━━━━━━━━━━━━━━━━\u001b[0m \u001b[32m10.5/10.5 MB\u001b[0m \u001b[31m39.3 MB/s\u001b[0m eta \u001b[36m0:00:00\u001b[0m\n",
            "\u001b[?25h  Preparing metadata (setup.py) ... \u001b[?25l\u001b[?25hdone\n",
            "\u001b[2K     \u001b[90m━━━━━━━━━━━━━━━━━━━━━━━━━━━━━━━━━━━━━━━━\u001b[0m \u001b[32m54.6/54.6 kB\u001b[0m \u001b[31m5.7 MB/s\u001b[0m eta \u001b[36m0:00:00\u001b[0m\n",
            "\u001b[?25h  Building wheel for globre (setup.py) ... \u001b[?25l\u001b[?25hdone\n"
          ]
        }
      ]
    },
    {
      "cell_type": "code",
      "execution_count": null,
      "metadata": {
        "id": "UEzm7gOSAdAI"
      },
      "outputs": [],
      "source": [
        "import warnings\n",
        "import pandas as pd\n",
        "import numpy as np\n",
        "import random\n",
        "import operator\n",
        "import itertools\n",
        "import gzip\n",
        "import json\n",
        "import pickle\n",
        "\n",
        "from lda import LDA\n",
        "import scipy.sparse\n",
        "from tmtoolkit.corpus import Corpus, lemmatize, to_lowercase, filter_clean_tokens\n",
        "from tmtoolkit.corpus import remove_common_tokens, remove_uncommon_tokens, print_summary, dtm\n",
        "from tmtoolkit.corpus.visualize import plot_doc_lengths_hist, plot_ranked_vocab_counts\n",
        "import matplotlib.pyplot as plt\n",
        "import seaborn as sns\n",
        "\n",
        "SEED = 2004\n",
        "random.seed(SEED)\n",
        "np.set_printoptions(precision=5)\n",
        "warnings.filterwarnings(\"ignore\")\n",
        "\n",
        "DIR = 'drive/MyDrive/dtsa5799_product_review_topic_model'\n",
        "DATA_DIR = '%s/data' % DIR"
      ]
    },
    {
      "cell_type": "markdown",
      "metadata": {
        "id": "rdey2IGwwTUX"
      },
      "source": [
        "# Process Corpus"
      ]
    },
    {
      "cell_type": "code",
      "execution_count": null,
      "metadata": {
        "id": "0RT-FcCLjNuV"
      },
      "outputs": [],
      "source": [
        "# load list best_asins from bestnikeasins.txt\n",
        "best_asins_path = f'{DATA_DIR}/bestnikeasins.txt'\n",
        "with open(best_asins_path, 'r') as f:\n",
        "    best_asins = f.read().split(',')"
      ]
    },
    {
      "cell_type": "code",
      "execution_count": null,
      "metadata": {
        "id": "i9yRQXMaj00w"
      },
      "outputs": [],
      "source": [
        "# load dict top_texts from top_reviewstext.jsonl\n",
        "top_texts = {}\n",
        "top_texts_path = f'{DATA_DIR}/top_reviewstext.jsonl'\n",
        "with open(top_texts_path, 'r') as file:\n",
        "    for line in file:\n",
        "        data = json.loads(line)\n",
        "        top_texts.update(data)"
      ]
    },
    {
      "cell_type": "code",
      "execution_count": null,
      "metadata": {
        "colab": {
          "base_uri": "https://localhost:8080/"
        },
        "id": "pUd2IoKnv3iO",
        "outputId": "552d2711-7cb4-4fa4-8434-838e92f4a03b"
      },
      "outputs": [
        {
          "output_type": "stream",
          "name": "stdout",
          "text": [
            "0 B0000V9K32.ACT5DY536GISV the colour i received is not blue as shown but yellow.Couldnt change it because \n",
            "1 B0000V9K32.A3BVWMS9I8OH8U Very cute and is really practical. Fits better on smaller wrists which is my cas\n",
            "2 B0000V9KRI.AR7L2ZP173QEE good price, very good material and excellent design, very useful for traveling, \n",
            "3 B0000V9KRI.A1BEBWGPSB2DLM I mean, Roxy rocks, but I'm kinda dissapointed with the material. The purse lokk\n",
            "4 B0000V9KRI.A1EDPEDXSQ78G4 I love this watch, i use every day, every where, to work, to go to the gym, pool\n"
          ]
        }
      ],
      "source": [
        "for i, (id, text) in enumerate(list(top_texts.items())[:5]):\n",
        "    print(i, id, text[:80])"
      ]
    },
    {
      "cell_type": "code",
      "execution_count": null,
      "metadata": {
        "id": "f_ouJHgcDMFs"
      },
      "outputs": [],
      "source": [
        "def build_corpus(text_dict, corpus_size=None, lang='en'):\n",
        "    corpus = Corpus(text_dict, language=lang)\n",
        "    #to_lowercase(corpus)\n",
        "    lemmatize(corpus)\n",
        "    filter_clean_tokens(corpus,\n",
        "                        remove_punct=True,\n",
        "                        remove_stopwords=True,\n",
        "                        remove_empty=True,\n",
        "                        remove_numbers=True,\n",
        "                        remove_shorter_than=3,\n",
        "                        remove_longer_than=20\n",
        "                        )\n",
        "    if corpus_size =='small':\n",
        "        remove_common_tokens(corpus, df_threshold=0.88)\n",
        "        remove_uncommon_tokens(corpus, df_threshold=0.003)\n",
        "    if corpus_size == 'big':\n",
        "        remove_common_tokens(corpus, df_threshold=0.98)\n",
        "        remove_uncommon_tokens(corpus, df_threshold=0.0003)\n",
        "\n",
        "    print_summary(corpus)\n",
        "    return corpus"
      ]
    },
    {
      "cell_type": "code",
      "source": [
        "lo_top_texts = {key: value.lower() for key, value in top_texts.items()}"
      ],
      "metadata": {
        "id": "797ezm7vUMDc"
      },
      "execution_count": null,
      "outputs": []
    },
    {
      "cell_type": "code",
      "source": [
        "for i, (id, text) in enumerate(list(lo_top_texts.items())[:5]):\n",
        "    print(i, id, text[:80])"
      ],
      "metadata": {
        "colab": {
          "base_uri": "https://localhost:8080/"
        },
        "id": "VGOQvoQLUf3o",
        "outputId": "1178fbd7-1b59-4e11-8a32-9e870c128742"
      },
      "execution_count": null,
      "outputs": [
        {
          "output_type": "stream",
          "name": "stdout",
          "text": [
            "0 B0000V9K32.ACT5DY536GISV the colour i received is not blue as shown but yellow.couldnt change it because \n",
            "1 B0000V9K32.A3BVWMS9I8OH8U very cute and is really practical. fits better on smaller wrists which is my cas\n",
            "2 B0000V9KRI.AR7L2ZP173QEE good price, very good material and excellent design, very useful for traveling, \n",
            "3 B0000V9KRI.A1BEBWGPSB2DLM i mean, roxy rocks, but i'm kinda dissapointed with the material. the purse lokk\n",
            "4 B0000V9KRI.A1EDPEDXSQ78G4 i love this watch, i use every day, every where, to work, to go to the gym, pool\n"
          ]
        }
      ]
    },
    {
      "cell_type": "markdown",
      "metadata": {
        "id": "KCu1JMUe33ol"
      },
      "source": [
        "### corpus"
      ]
    },
    {
      "cell_type": "code",
      "execution_count": null,
      "metadata": {
        "colab": {
          "base_uri": "https://localhost:8080/"
        },
        "id": "YcTEkRN28nvn",
        "outputId": "11a30769-07e6-4a62-a530-0ff972e90164"
      },
      "outputs": [
        {
          "output_type": "stream",
          "name": "stdout",
          "text": [
            "Corpus with 13380 documents in English\n",
            "> B00012O2O2.A8JNZ93ZMSX2F (18 tokens): watch ideal person small wrist look nice light gre...\n",
            "> B00012O2O2.A18GGD59BKK1V9 (21 tokens): watch color love picture misleading multicolore ni...\n",
            "> B00012O2O2.A2RT3G75H4UCFE (12 tokens): great little watch price wear work lot compliment ...\n",
            "> B00012O2S8.A1RYOBXF3RBCNR (13 tokens): buy watch black colour love decide buy present fri...\n",
            "> B0000V9KRI.AR7L2ZP173QEE (13 tokens): good price good material excellent design useful t...\n",
            "> B0000V9KRI.A1EDPEDXSQ78G4 (12 tokens): love watch use day work gym pool sport etc evethe ...\n",
            "> B0000V9K32.A3BVWMS9I8OH8U (10 tokens): cute practical fit well small wrist case wear love...\n",
            "> B0000V9K32.ACT5DY536GISV (14 tokens): colour receive blue show yellow.couldnt change bir...\n",
            "> B00012O2O2.ANG4H72G3LGI0 (35 tokens): great hope watch want funky cool change spring-- c...\n",
            "> B0000V9KRI.A1BEBWGPSB2DLM (11 tokens): mean roxy rock kinda dissapointe material purse lo...\n",
            "(and 13370 more documents)\n",
            "total number of tokens: 240787 / vocabulary size: 13898\n"
          ]
        }
      ],
      "source": [
        "corp = build_corpus(lo_top_texts)"
      ]
    },
    {
      "cell_type": "code",
      "execution_count": null,
      "metadata": {
        "colab": {
          "base_uri": "https://localhost:8080/",
          "height": 410
        },
        "id": "qcZo4e6W7_5R",
        "outputId": "29b4ae01-c8b7-4c27-fb8f-78da8c357673"
      },
      "outputs": [
        {
          "output_type": "display_data",
          "data": {
            "text/plain": [
              "<Figure size 1000x400 with 2 Axes>"
            ],
            "image/png": "[encoded data removed]"
          },
          "metadata": {}
        }
      ],
      "source": [
        "fig, axs = plt.subplots(1, 2, figsize=(10, 4))\n",
        "plot_doc_lengths_hist(fig, axs[0], corp, y_log=False)\n",
        "plot_ranked_vocab_counts(fig, axs[1], corp, zipf=True)\n",
        "plt.show()"
      ]
    },
    {
      "cell_type": "code",
      "execution_count": null,
      "metadata": {
        "id": "LdtljIGdu92t"
      },
      "outputs": [],
      "source": [
        "# save corpus\n",
        "corp_path = f'{DATA_DIR}/corpus.p'\n",
        "pickle.dump(corp, open(corp_path, 'wb'))"
      ]
    },
    {
      "cell_type": "markdown",
      "metadata": {
        "id": "GRZnCBZt4GV9"
      },
      "source": [
        "### corpus small"
      ]
    },
    {
      "cell_type": "code",
      "execution_count": null,
      "metadata": {
        "colab": {
          "base_uri": "https://localhost:8080/"
        },
        "id": "0z1UYnAazV5I",
        "outputId": "f41715c8-bff4-45d2-9232-1b972a99fd23"
      },
      "outputs": [
        {
          "output_type": "stream",
          "name": "stdout",
          "text": [
            "Corpus with 13380 documents in English\n",
            "> B00012O2O2.A8JNZ93ZMSX2F (16 tokens): watch person small wrist look nice light green loo...\n",
            "> B00012O2O2.A18GGD59BKK1V9 (16 tokens): watch color love picture nice green watch arrive b...\n",
            "> B00012O2O2.A2RT3G75H4UCFE (11 tokens): great little watch price wear work lot compliment ...\n",
            "> B00012O2S8.A1RYOBXF3RBCNR (12 tokens): buy watch black colour love decide buy present fri...\n",
            "> B0000V9KRI.AR7L2ZP173QEE (11 tokens): good price good material excellent design travel t...\n",
            "> B0000V9KRI.A1EDPEDXSQ78G4 (10 tokens): love watch use day work gym sport etc time good\n",
            "> B0000V9K32.A3BVWMS9I8OH8U (9 tokens): cute fit well small wrist case wear love watch\n",
            "> B0000V9K32.ACT5DY536GISV (11 tokens): colour receive blue show change birthday present d...\n",
            "> B00012O2O2.ANG4H72G3LGI0 (26 tokens): great hope watch want cool change color photo thin...\n",
            "> B0000V9KRI.A1BEBWGPSB2DLM (6 tokens): mean rock kinda material bit cheap\n",
            "(and 13370 more documents)\n",
            "total number of tokens: 196518 / vocabulary size: 675\n"
          ]
        }
      ],
      "source": [
        "corp_sm = build_corpus(lo_top_texts, corpus_size='small')"
      ]
    },
    {
      "cell_type": "code",
      "source": [
        "# save corpus\n",
        "corp_sm_path = f'{DATA_DIR}/corp_sm.p'\n",
        "pickle.dump(corp_sm, open(corp_sm_path, 'wb'))"
      ],
      "metadata": {
        "id": "i5EKQaDz__3O"
      },
      "execution_count": null,
      "outputs": []
    },
    {
      "cell_type": "markdown",
      "metadata": {
        "id": "s1CW0X4p4JIY"
      },
      "source": [
        "### corpus big"
      ]
    },
    {
      "cell_type": "code",
      "execution_count": null,
      "metadata": {
        "colab": {
          "base_uri": "https://localhost:8080/"
        },
        "id": "pUNLX5tM1VVx",
        "outputId": "4b4e07ce-e1fd-4124-e5ef-4d6b5ca3fcae"
      },
      "outputs": [
        {
          "output_type": "stream",
          "name": "stdout",
          "text": [
            "Corpus with 13380 documents in English\n",
            "> B00012O2O2.A8JNZ93ZMSX2F (18 tokens): watch ideal person small wrist look nice light gre...\n",
            "> B00012O2O2.A18GGD59BKK1V9 (17 tokens): watch color love picture nice green watch arrive d...\n",
            "> B00012O2O2.A2RT3G75H4UCFE (12 tokens): great little watch price wear work lot compliment ...\n",
            "> B00012O2S8.A1RYOBXF3RBCNR (13 tokens): buy watch black colour love decide buy present fri...\n",
            "> B0000V9KRI.AR7L2ZP173QEE (12 tokens): good price good material excellent design useful t...\n",
            "> B0000V9KRI.A1EDPEDXSQ78G4 (11 tokens): love watch use day work gym pool sport etc time go...\n",
            "> B0000V9K32.A3BVWMS9I8OH8U (10 tokens): cute practical fit well small wrist case wear love...\n",
            "> B0000V9K32.ACT5DY536GISV (11 tokens): colour receive blue show change birthday present d...\n",
            "> B00012O2O2.ANG4H72G3LGI0 (30 tokens): great hope watch want funky cool change color cont...\n",
            "> B0000V9KRI.A1BEBWGPSB2DLM (9 tokens): mean rock kinda dissapointe material purse lil bit...\n",
            "(and 13370 more documents)\n",
            "total number of tokens: 224947 / vocabulary size: 2616\n"
          ]
        }
      ],
      "source": [
        "corp_bg = build_corpus(lo_top_texts, corpus_size='big')"
      ]
    },
    {
      "cell_type": "code",
      "source": [
        "# save corpus\n",
        "corp_bg_path = f'{DATA_DIR}/corp_bg.p'\n",
        "pickle.dump(corp_bg, open(corp_bg_path, 'wb'))"
      ],
      "metadata": {
        "id": "-iXevgL-AEFW"
      },
      "execution_count": null,
      "outputs": []
    },
    {
      "cell_type": "code",
      "execution_count": null,
      "metadata": {
        "id": "Eb0sBmeM4rYT"
      },
      "outputs": [],
      "source": [
        "# get dtm, doc_labels, vocab\n",
        "dtm_sm, doc_labels_sm, vocab_sm = dtm(corp_sm, return_doc_labels=True, return_vocab=True)\n",
        "dtm_bg, doc_labels_bg, vocab_bg = dtm(corp_bg, return_doc_labels=True, return_vocab=True)"
      ]
    },
    {
      "cell_type": "code",
      "execution_count": null,
      "metadata": {
        "id": "7n-jkzl94vSw"
      },
      "outputs": [],
      "source": [
        "# save\n",
        "scipy.sparse.save_npz(f'{DATA_DIR}/dtm_sm.npz', dtm_sm)\n",
        "scipy.sparse.save_npz(f'{DATA_DIR}/dtm_bg.npz', dtm_bg)\n",
        "\n",
        "pickle.dump(doc_labels_sm, open(f'{DATA_DIR}/doc_labels_sm.p', 'wb'))\n",
        "pickle.dump(doc_labels_bg, open(f'{DATA_DIR}/doc_labels_bg.p', 'wb'))\n",
        "\n",
        "pickle.dump(vocab_sm, open(f'{DATA_DIR}/vocab_sm.p', 'wb'))\n",
        "pickle.dump(vocab_bg, open(f'{DATA_DIR}/vocab_bg.p', 'wb'))"
      ]
    },
    {
      "cell_type": "markdown",
      "metadata": {
        "id": "11sEsMw0GIKK"
      },
      "source": [
        "### zero row\n",
        "\n",
        "check if there are any dtm zero rows after corpus processing"
      ]
    },
    {
      "cell_type": "code",
      "source": [
        "# load\n",
        "dtm_sm = scipy.sparse.load_npz(f'{DATA_DIR}/dtm_sm.npz')\n",
        "dtm_bg = scipy.sparse.load_npz(f'{DATA_DIR}/dtm_bg.npz')\n",
        "\n",
        "doc_labels_sm = pickle.load(open(f'{DATA_DIR}/doc_labels_sm.p', 'rb'))\n",
        "doc_labels_bg = pickle.load(open(f'{DATA_DIR}/doc_labels_bg.p', 'rb'))\n",
        "\n",
        "vocab_sm = pickle.load(open(f'{DATA_DIR}/vocab_sm.p', 'rb'))\n",
        "vocab_bg = pickle.load(open(f'{DATA_DIR}/vocab_bg.p', 'rb'))"
      ],
      "metadata": {
        "id": "uzk9cPfYVmE7"
      },
      "execution_count": null,
      "outputs": []
    },
    {
      "cell_type": "code",
      "source": [
        "dtm_sm.shape[0], dtm_bg.shape[0]"
      ],
      "metadata": {
        "colab": {
          "base_uri": "https://localhost:8080/"
        },
        "id": "KYbp1DYbVw-w",
        "outputId": "86431d9f-be58-476f-b27a-75dcfeb711cf"
      },
      "execution_count": null,
      "outputs": [
        {
          "output_type": "execute_result",
          "data": {
            "text/plain": [
              "(13380, 13380)"
            ]
          },
          "metadata": {},
          "execution_count": 20
        }
      ]
    },
    {
      "cell_type": "code",
      "execution_count": null,
      "metadata": {
        "id": "BR9fXHRsDgh7"
      },
      "outputs": [],
      "source": [
        "def check_zero_row(dtm, doc_ids, texts_dict):\n",
        "    zero_row_indices = np.where(dtm.getnnz(axis=1) == 0)[0]\n",
        "    zero_doc_ids = [doc_ids[i] for i in zero_row_indices]\n",
        "    zero_texts = {doc_id: texts_dict[doc_id] for doc_id in zero_doc_ids}\n",
        "    if zero_texts:\n",
        "        for doc_id, text in zero_texts.items():\n",
        "            print(f\"Document ID: {doc_id}, Text: {text}\")\n",
        "        print(f'{len(zero_texts)} zero rows found')\n",
        "    else:\n",
        "        print('No zero row')"
      ]
    },
    {
      "cell_type": "code",
      "source": [
        "def update_dtm_and_docs(dtm, doc_ids, top_texts, name):\n",
        "    zero_row_indices = np.where(dtm.getnnz(axis=1) == 0)[0]\n",
        "\n",
        "    if zero_row_indices.size > 0:\n",
        "        deleted_doc_ids = [doc_ids[i] for i in zero_row_indices]\n",
        "        print(\"Deleted doc ids:\", deleted_doc_ids)\n",
        "        dtm = dtm[~np.isin(np.arange(dtm.shape[0]), zero_row_indices), :]\n",
        "        new_doc_ids = [doc_ids[i] for i in range(len(doc_ids)) if i not in zero_row_indices]\n",
        "        new_top_texts = {doc_id: top_texts[doc_id] for doc_id in new_doc_ids if doc_id in top_texts}\n",
        "        print(f\"{len(deleted_doc_ids)} rows have been deleted\")\n",
        "\n",
        "        with open(f'{DATA_DIR}/deleted_doc_ids_{name}.txt', 'w') as f:\n",
        "            for doc_id in deleted_doc_ids:\n",
        "                f.write(f\"{doc_id}\\n\")\n",
        "        with open(f'{DATA_DIR}/top_texts_{name}.json', 'w') as f:\n",
        "            json.dump(new_top_texts, f, ensure_ascii=False, indent=4)\n",
        "        print('files saved')\n",
        "    else:\n",
        "        print(\"No rows have been deleted\")\n",
        "\n",
        "    return dtm, new_doc_ids, new_top_texts"
      ],
      "metadata": {
        "id": "W3BOwt-QXjr5"
      },
      "execution_count": null,
      "outputs": []
    },
    {
      "cell_type": "code",
      "source": [
        "doc_ids = list(top_texts.keys())"
      ],
      "metadata": {
        "id": "06OeCvLKXboq"
      },
      "execution_count": null,
      "outputs": []
    },
    {
      "cell_type": "markdown",
      "metadata": {
        "id": "5j_0alkiGLGe"
      },
      "source": [
        "#### corpus small"
      ]
    },
    {
      "cell_type": "code",
      "source": [
        "check_zero_row(dtm_sm, doc_ids, top_texts)"
      ],
      "metadata": {
        "colab": {
          "base_uri": "https://localhost:8080/"
        },
        "id": "5Xfb5js82hyA",
        "outputId": "a07d3c98-b81d-4aac-d81f-6e92abd8d996"
      },
      "execution_count": null,
      "outputs": [
        {
          "output_type": "stream",
          "name": "stdout",
          "text": [
            "Document ID: B000E8J50Y.A2FVT7AYPJ27CW, Text: This watch is a perfect durable, every day watch that has held up to water, construction work, and constant, every day wear and tear.  And it was just \"retro\" enough to gain compliments for the 1980's kickback.  If it had a calculator....watch out for the NERD ALERT!  GREAT PRODUCT!\n",
            "Document ID: B000G42Z2Q.A2WP2PC1JH3YUX, Text: Shoe is good and seems to fit well.  Have used it some for parkouring.  Like the stylish look of the black and blue color.\n",
            "Document ID: B000G42Z2Q.A1DUFYK7NU8URW, Text: So cutteFit as expectedso good for trainingit was the best one that i got right now :)\n",
            "Document ID: B000J2F8GK.A2SSC07XFGTAV4, Text: This was a gift to my son and he was very happy with the shoes.  He wears them to play basketball and is in love with the shoes.\n",
            "Document ID: B001V6PNRW.AJM05EYT7T0KM, Text: Always buy Nike brand, this was a great price and came on time. Nike is always a good brand, can't beat it.\n",
            "Document ID: B0024FQIRI.A1AHXHNHK3CMXF, Text: Bought these for my husband for Christmas and he loves them. He's a shoe addict and has almost a hundred pair of sneakers and he said that these are very comfortable and stylish. He did mention though that they were a tad big tight (near the instep area) but loosened up as he wore them and now they fit perfectly.\n",
            "Document ID: B0024FQIRI.A1NTR4NXLZEBKX, Text: Honestly, I have owned a lot of good shoes.....as I have always felt you can never spend too much on your feet if you use your shoes a lot.  And after going to the stores and trying on countless different pairs, this was by far the most comfortable shoe I have ever wore.  I bought them immediately after trying them on and walking a little bit in them.  I know this is not a cheap shoe, so if you are on a strict budget, this might not be for you.  But if you are les concerned with price and more concerned with comfort, this shoe is for you.  I am planning on buying a second pair here on Amazon within a week or two.\n",
            "Document ID: B002FKHOOS.A1XMRKHPOQD72Y, Text: love this pair, they are light and very confe... stylish too, I get lots of compliments.I usually wear shoes size 12. This particular shoe runs small, I had to exchange them for a size 13 instead.\n",
            "Document ID: B004LBKEPU.A2KH2RCKX8ABZG, Text: I got the shoes right away as a Prime member!  I like that - totally worth the money!!  The shoes are great and who would think otherwise!!\n",
            "Document ID: B005525IGO.A3JH357ASXJM8N, Text: Very popular among the kids in school today. Lighter and easier on the back if you don't have to carry a ____load of crap.\n",
            "Document ID: B0058YCZ1K.A1R72RTTH20TA9, Text: I bought this item for my daughter.It is exactly as it is pictured.My daughter really does likes it.\n",
            "Document ID: B0058YDA6E.A1Q20SCKBRWNZ, Text: These are very nice shoes. My son wears these shoes almost daily and they have held up very well. Great\n",
            "Document ID: B0059D7FVK.ACFW6TMOYGJYN, Text: If I remember right I ordered mens size 8.5wide walking shoes\n",
            "Document ID: B0059P28MY.A1ZDEMJI2FOC61, Text: nice looking pair of baseball cleats for my lil 13 year old . He loves them and he says they are very comfortable.\n",
            "Document ID: B005BQXZXC.A10LYRPZ4QHKP1, Text: there were two right foot shoes in the box. There was not a shoe for the left foot. These shoes should have been packaged better\n",
            "Document ID: B005OB5384.A1ILKZQZS0RIUR, Text: I was a little nervous about paying for these shoes then finding out they are not my size, since I know nothing about this 9.5 D(m) shoe sizing. But nevertheless, the shoes came perfectly fitted to my feet, they are super comfortable and atop that, they arrived 2 days earlier than I expected.I am going to purchase another pair in the near future.\n",
            "Document ID: B005OB65TK.A1JD6APD3GUO13, Text: I was looking for a new shoe since I am a beginner runner. My other shoes caused pain in my feet and ankles. This pair has corrected the problem. Very comfortable to wear every day or running\n",
            "Document ID: B006OBWFE8.A33U0ABT17FRZT, Text: I recommend this product. They are true to size, nice looking and comfortable. Nice price! And I love the color.\n",
            "Document ID: B006OBWTSA.AONX6QGGUA3KI, Text: I love Nikes for exercise shoes, so know that.  I got these because I wore my last pair in the absolute ground.  I know that the &#34;less is more&#34; movement in running is hot.  See barefoot running, etc.  However, I am a curvy girl with an unstable knee.  It occurred to me that a more stable shoe might help.  Very true. I have seen the other reviews that the shoe did not have room in the toe box. I always get my running shoes a half size larger as is recommended.  I actually have a little extra room.  They are not cramped across the ball of my foot or toes.  The heel is really soft and a little sock like around my ankle.  Very lovely.  I didn't have to break them in at all.Now, word of caution...the shoes sold here are identified by style and not by year for the most part.  So, I can't guarantee that when you find my review, or anyones, it will talking about exactly the shoe you're looking at.I got a reasonable price, super fast shipping, and a great shoe.\n",
            "Document ID: B006OBWTSA.A2YTYOL5145GCH, Text: These shoes are very comfortable.  I love them and recommend them to anyone.  The arch support is just right and the color is nice.\n",
            "Document ID: B006RBH2PW.A2G98R8S0EULV6, Text: The shoes fit well and are exactly as described. They arrived quickly and were well packages. Overall a terrific experience through Amazon.\n",
            "Document ID: B006RBH2PW.A1KOR9BO9UPCYG, Text: This is a really comfortable shoe great for walking and running. Has really good arch support. I do recommend this shoe.\n",
            "Document ID: B006X79XWA.A10ZM9G2PNKUB7, Text: I got these for my mom and she loves them. They seem to be keeping true to the great quality of past Frees. I haven't found a pair of Nike Frees that I or anyone I know haven't liked.  They are comfortable and nice shoes\n",
            "Document ID: B007LO1RPU.AODC1LKKPNMY0, Text: They were alright but I ordered them when I was in Afghanistan and theres nothing but gravel rocks everywhere and they got tore up in 3 months from walking around the COP in them.  Good indoor crossfit shoes and for running on pavement.\n",
            "Document ID: B007X93BZM.AXV1UNUJAVK26, Text: Es justo como en la foto. Ni mas ni menos. llego de acuerdo a la fecha. Lo recomiendo para quien le guste este tipo de zapato\n",
            "Document ID: B0098G7Q1S.A15XZFMT2VL1DB, Text: My husband love he's sneakers. He said it was really good for running and it was really comfortable .. So he was happy with them\n",
            "Document ID: B009R8HDII.A2BXMQUNPD111R, Text: They are sweet!\n",
            "Document ID: B00AMTXXWG.A1EYA60DRSNIDO, Text: Beautiful and comfortable. I definitely recommend this product. Fit as expected. It is good for jogging and also for walking.\n",
            "Document ID: B00AMU06N4.ALH67I89RZCB, Text: These have no break-in time. Comfortable as soon as you put them on.A very good price for these shoes.\n",
            "Document ID: B00AMU06N4.A1QRWSDG9TKO4H, Text: These shoes are extremely narrow, and I don't even have a wide foot. If I wear these for around 4 hours, my little toe on each foot will be rubbed raw. I find these shoes extremely uncomfortable and I've had these for about 2 months. I bought them to work in, but I find myself often swapping shoes towards the middle of my day. I'm extremely disappointed in them. I now use these mostly to workout in. I've own several Nike's throughout my life, but this is the first pair that are complete garbage. I wouldn't buy these for my worse enemy.\n",
            "Document ID: B00AMU1YB2.A241J7ZR8CLOYM, Text: Love these shoes!  Very light and very comfortable.\n",
            "Document ID: B00AQ9I084.AS7HE6KNU3FTZ, Text: My son loves these shoes he is on his second pair.  First pair we bought at Kohls in Las Vegas, Nev, we live in Minnesota, he hasbeen looking for another pair for awhile because he loves how they look, so thank you for still having them.\n",
            "Document ID: B00BJ803IQ.A3IFJNT2ZFFUCA, Text: Dope!!\n",
            "Document ID: B00BLT5GMG.A2IPRTA4JHNDDZ, Text: I had tried the Relentless 2 before, but not this model.  I am pleased to know I can weave them as well!  Thanks!\n",
            "Document ID: B00BNFQ8M0.A3H481RDA9I4DV, Text: Ya\n",
            "Document ID: B00BPEHOHC.AVSI5LUUCZM8F, Text: sweet\n",
            "Document ID: B00C1SOINY.A2VMISC01K95F9, Text: It's a decent shoe, but not a great shoe. I wouldn't recommend it unless it's under $90. The tongue on my right shoe is offcenter and the threads cut into the top of my toes, not ideal. Compared to the Kobe VII, my other basketball shoes, these are terrible.\n",
            "Document ID: B00DT6E2P6.AL6HN91V70J00, Text: I was a little hesitant to order these at first afraid they'd be knock-offs but after checking them out Im glad I did they look nice and feel comfortable they also came right away, looking into a second pair now =]\n",
            "Document ID: B00E8RZ5UQ.AIN2ETEAP7B1M, Text: 4\n",
            "Document ID: B00EIX9V50.A00151103W37UJ3ZZ2WDZ, Text: me likey\n",
            "Document ID: B00EQJ5HA4.A2BAW2MKOPVHSO, Text: I love these shoes. They are so comfortable and super light weight. Perfect for the summer weather. Love the bright colours too.\n",
            "Document ID: B00GCDE2KS.A2GR9VUD3K6UJ7, Text: made in chinaUncomfortable\n",
            "Document ID: B00GY0IBY2.A3TU3298FVEDE3, Text: It was my first time ordering shoes through Amazon, I was a little skeptical.  But the shoe's were great and they fit great.\n",
            "Document ID: B00HFTJEH4.A2FITEUJNJ4WH2, Text: Being a soccer freak this cleats work great for me. The dribble feels amazing, great grip for shooting curves, the traction on the bottom gives a lot of control and they look beautiful. Needleless to say I loved them\n",
            "Document ID: B00IT6ATEY.A12B13L9NOFMA6, Text: Shoes were exactly as described. .great solid shoes! Size seams to run small..check your size and adjust accordinglyBut well worth it\n",
            "Document ID: B00JEG0RZ4.AAR2A7NJST1L9, Text: yeah\n",
            "46 zero rows found\n"
          ]
        }
      ]
    },
    {
      "cell_type": "code",
      "source": [
        "dtm_sm, doc_ids_sm, top_texts_sm = update_dtm_and_docs(dtm_sm, doc_ids, top_texts, 'sm')"
      ],
      "metadata": {
        "colab": {
          "base_uri": "https://localhost:8080/"
        },
        "id": "6AwnXD_L2r0E",
        "outputId": "5ad8f90a-352d-417c-ecf9-2ff7a97c59f5"
      },
      "execution_count": null,
      "outputs": [
        {
          "output_type": "stream",
          "name": "stdout",
          "text": [
            "Deleted doc ids: ['B000E8J50Y.A2FVT7AYPJ27CW', 'B000G42Z2Q.A2WP2PC1JH3YUX', 'B000G42Z2Q.A1DUFYK7NU8URW', 'B000J2F8GK.A2SSC07XFGTAV4', 'B001V6PNRW.AJM05EYT7T0KM', 'B0024FQIRI.A1AHXHNHK3CMXF', 'B0024FQIRI.A1NTR4NXLZEBKX', 'B002FKHOOS.A1XMRKHPOQD72Y', 'B004LBKEPU.A2KH2RCKX8ABZG', 'B005525IGO.A3JH357ASXJM8N', 'B0058YCZ1K.A1R72RTTH20TA9', 'B0058YDA6E.A1Q20SCKBRWNZ', 'B0059D7FVK.ACFW6TMOYGJYN', 'B0059P28MY.A1ZDEMJI2FOC61', 'B005BQXZXC.A10LYRPZ4QHKP1', 'B005OB5384.A1ILKZQZS0RIUR', 'B005OB65TK.A1JD6APD3GUO13', 'B006OBWFE8.A33U0ABT17FRZT', 'B006OBWTSA.AONX6QGGUA3KI', 'B006OBWTSA.A2YTYOL5145GCH', 'B006RBH2PW.A2G98R8S0EULV6', 'B006RBH2PW.A1KOR9BO9UPCYG', 'B006X79XWA.A10ZM9G2PNKUB7', 'B007LO1RPU.AODC1LKKPNMY0', 'B007X93BZM.AXV1UNUJAVK26', 'B0098G7Q1S.A15XZFMT2VL1DB', 'B009R8HDII.A2BXMQUNPD111R', 'B00AMTXXWG.A1EYA60DRSNIDO', 'B00AMU06N4.ALH67I89RZCB', 'B00AMU06N4.A1QRWSDG9TKO4H', 'B00AMU1YB2.A241J7ZR8CLOYM', 'B00AQ9I084.AS7HE6KNU3FTZ', 'B00BJ803IQ.A3IFJNT2ZFFUCA', 'B00BLT5GMG.A2IPRTA4JHNDDZ', 'B00BNFQ8M0.A3H481RDA9I4DV', 'B00BPEHOHC.AVSI5LUUCZM8F', 'B00C1SOINY.A2VMISC01K95F9', 'B00DT6E2P6.AL6HN91V70J00', 'B00E8RZ5UQ.AIN2ETEAP7B1M', 'B00EIX9V50.A00151103W37UJ3ZZ2WDZ', 'B00EQJ5HA4.A2BAW2MKOPVHSO', 'B00GCDE2KS.A2GR9VUD3K6UJ7', 'B00GY0IBY2.A3TU3298FVEDE3', 'B00HFTJEH4.A2FITEUJNJ4WH2', 'B00IT6ATEY.A12B13L9NOFMA6', 'B00JEG0RZ4.AAR2A7NJST1L9']\n",
            "46 rows have been deleted\n",
            "files saved\n"
          ]
        }
      ]
    },
    {
      "cell_type": "code",
      "source": [
        "check_zero_row(dtm_sm, doc_ids_sm, top_texts_sm)"
      ],
      "metadata": {
        "colab": {
          "base_uri": "https://localhost:8080/"
        },
        "id": "I8Ep3KfHEzcq",
        "outputId": "3719145a-ce8f-477e-f086-673a3dac5217"
      },
      "execution_count": null,
      "outputs": [
        {
          "output_type": "stream",
          "name": "stdout",
          "text": [
            "No zero row\n"
          ]
        }
      ]
    },
    {
      "cell_type": "markdown",
      "metadata": {
        "id": "2TRTqiFaGTPL"
      },
      "source": [
        "#### corpus big"
      ]
    },
    {
      "cell_type": "code",
      "execution_count": null,
      "metadata": {
        "colab": {
          "base_uri": "https://localhost:8080/"
        },
        "id": "Lunkj8ZpEQ5J",
        "outputId": "e55525ca-4899-4bf2-d937-96732dae4dc3"
      },
      "outputs": [
        {
          "output_type": "stream",
          "name": "stdout",
          "text": [
            "Document ID: B000G42Z2Q.A2WP2PC1JH3YUX, Text: Shoe is good and seems to fit well.  Have used it some for parkouring.  Like the stylish look of the black and blue color.\n",
            "Document ID: B000J2F8GK.A2SSC07XFGTAV4, Text: This was a gift to my son and he was very happy with the shoes.  He wears them to play basketball and is in love with the shoes.\n",
            "Document ID: B001V6PNRW.AJM05EYT7T0KM, Text: Always buy Nike brand, this was a great price and came on time. Nike is always a good brand, can't beat it.\n",
            "Document ID: B0024FQIRI.A1AHXHNHK3CMXF, Text: Bought these for my husband for Christmas and he loves them. He's a shoe addict and has almost a hundred pair of sneakers and he said that these are very comfortable and stylish. He did mention though that they were a tad big tight (near the instep area) but loosened up as he wore them and now they fit perfectly.\n",
            "Document ID: B002FKHOOS.A1XMRKHPOQD72Y, Text: love this pair, they are light and very confe... stylish too, I get lots of compliments.I usually wear shoes size 12. This particular shoe runs small, I had to exchange them for a size 13 instead.\n",
            "Document ID: B0059D7FVK.ACFW6TMOYGJYN, Text: If I remember right I ordered mens size 8.5wide walking shoes\n",
            "Document ID: B005BQXZXC.A10LYRPZ4QHKP1, Text: there were two right foot shoes in the box. There was not a shoe for the left foot. These shoes should have been packaged better\n",
            "Document ID: B005OB5384.A1ILKZQZS0RIUR, Text: I was a little nervous about paying for these shoes then finding out they are not my size, since I know nothing about this 9.5 D(m) shoe sizing. But nevertheless, the shoes came perfectly fitted to my feet, they are super comfortable and atop that, they arrived 2 days earlier than I expected.I am going to purchase another pair in the near future.\n",
            "Document ID: B006X79XWA.A10ZM9G2PNKUB7, Text: I got these for my mom and she loves them. They seem to be keeping true to the great quality of past Frees. I haven't found a pair of Nike Frees that I or anyone I know haven't liked.  They are comfortable and nice shoes\n",
            "Document ID: B00AMTXXWG.A1EYA60DRSNIDO, Text: Beautiful and comfortable. I definitely recommend this product. Fit as expected. It is good for jogging and also for walking.\n",
            "Document ID: B00AMU06N4.A1QRWSDG9TKO4H, Text: These shoes are extremely narrow, and I don't even have a wide foot. If I wear these for around 4 hours, my little toe on each foot will be rubbed raw. I find these shoes extremely uncomfortable and I've had these for about 2 months. I bought them to work in, but I find myself often swapping shoes towards the middle of my day. I'm extremely disappointed in them. I now use these mostly to workout in. I've own several Nike's throughout my life, but this is the first pair that are complete garbage. I wouldn't buy these for my worse enemy.\n",
            "Document ID: B00AMU1YB2.A241J7ZR8CLOYM, Text: Love these shoes!  Very light and very comfortable.\n",
            "Document ID: B00AQ9I084.AS7HE6KNU3FTZ, Text: My son loves these shoes he is on his second pair.  First pair we bought at Kohls in Las Vegas, Nev, we live in Minnesota, he hasbeen looking for another pair for awhile because he loves how they look, so thank you for still having them.\n",
            "Document ID: B00BLT5GMG.A2IPRTA4JHNDDZ, Text: I had tried the Relentless 2 before, but not this model.  I am pleased to know I can weave them as well!  Thanks!\n",
            "Document ID: B00BNFQ8M0.A3H481RDA9I4DV, Text: Ya\n",
            "Document ID: B00C1SOINY.A2VMISC01K95F9, Text: It's a decent shoe, but not a great shoe. I wouldn't recommend it unless it's under $90. The tongue on my right shoe is offcenter and the threads cut into the top of my toes, not ideal. Compared to the Kobe VII, my other basketball shoes, these are terrible.\n",
            "Document ID: B00E8RZ5UQ.AIN2ETEAP7B1M, Text: 4\n",
            "Document ID: B00EIX9V50.A00151103W37UJ3ZZ2WDZ, Text: me likey\n",
            "Document ID: B00EQJ5HA4.A2BAW2MKOPVHSO, Text: I love these shoes. They are so comfortable and super light weight. Perfect for the summer weather. Love the bright colours too.\n",
            "Document ID: B00GCDE2KS.A2GR9VUD3K6UJ7, Text: made in chinaUncomfortable\n",
            "Document ID: B00GY0IBY2.A3TU3298FVEDE3, Text: It was my first time ordering shoes through Amazon, I was a little skeptical.  But the shoe's were great and they fit great.\n",
            "Document ID: B00HFTJEH4.A2FITEUJNJ4WH2, Text: Being a soccer freak this cleats work great for me. The dribble feels amazing, great grip for shooting curves, the traction on the bottom gives a lot of control and they look beautiful. Needleless to say I loved them\n",
            "Document ID: B00IT6ATEY.A12B13L9NOFMA6, Text: Shoes were exactly as described. .great solid shoes! Size seams to run small..check your size and adjust accordinglyBut well worth it\n",
            "23 zero rows found\n"
          ]
        }
      ],
      "source": [
        "check_zero_row(dtm_bg, doc_ids, top_texts)"
      ]
    },
    {
      "cell_type": "code",
      "source": [
        "dtm_bg, doc_ids_bg, top_texts_bg = update_dtm_and_docs(dtm_bg, doc_ids, top_texts, 'bg')"
      ],
      "metadata": {
        "colab": {
          "base_uri": "https://localhost:8080/"
        },
        "id": "GXi1TlF0bGmE",
        "outputId": "65f4737b-9655-4b97-d509-5ad17bbe6a34"
      },
      "execution_count": null,
      "outputs": [
        {
          "output_type": "stream",
          "name": "stdout",
          "text": [
            "Deleted doc ids: ['B000G42Z2Q.A2WP2PC1JH3YUX', 'B000J2F8GK.A2SSC07XFGTAV4', 'B001V6PNRW.AJM05EYT7T0KM', 'B0024FQIRI.A1AHXHNHK3CMXF', 'B002FKHOOS.A1XMRKHPOQD72Y', 'B0059D7FVK.ACFW6TMOYGJYN', 'B005BQXZXC.A10LYRPZ4QHKP1', 'B005OB5384.A1ILKZQZS0RIUR', 'B006X79XWA.A10ZM9G2PNKUB7', 'B00AMTXXWG.A1EYA60DRSNIDO', 'B00AMU06N4.A1QRWSDG9TKO4H', 'B00AMU1YB2.A241J7ZR8CLOYM', 'B00AQ9I084.AS7HE6KNU3FTZ', 'B00BLT5GMG.A2IPRTA4JHNDDZ', 'B00BNFQ8M0.A3H481RDA9I4DV', 'B00C1SOINY.A2VMISC01K95F9', 'B00E8RZ5UQ.AIN2ETEAP7B1M', 'B00EIX9V50.A00151103W37UJ3ZZ2WDZ', 'B00EQJ5HA4.A2BAW2MKOPVHSO', 'B00GCDE2KS.A2GR9VUD3K6UJ7', 'B00GY0IBY2.A3TU3298FVEDE3', 'B00HFTJEH4.A2FITEUJNJ4WH2', 'B00IT6ATEY.A12B13L9NOFMA6']\n",
            "23 rows have been deleted\n",
            "files saved\n"
          ]
        }
      ]
    },
    {
      "cell_type": "code",
      "source": [
        "check_zero_row(dtm_bg, doc_ids_bg, top_texts_bg)"
      ],
      "metadata": {
        "colab": {
          "base_uri": "https://localhost:8080/"
        },
        "id": "dORIwt3NW1A-",
        "outputId": "46cea001-a38f-4d6c-bcf9-161d1ebc4934"
      },
      "execution_count": null,
      "outputs": [
        {
          "output_type": "stream",
          "name": "stdout",
          "text": [
            "No zero row\n"
          ]
        }
      ]
    },
    {
      "cell_type": "code",
      "source": [
        "# save\n",
        "scipy.sparse.save_npz(f'{DATA_DIR}/new_dtm_sm.npz', dtm_sm)\n",
        "scipy.sparse.save_npz(f'{DATA_DIR}/new_dtm_bg.npz', dtm_bg)\n",
        "\n",
        "pickle.dump(doc_labels_sm, open(f'{DATA_DIR}/new_doc_labels_sm.p', 'wb'))\n",
        "pickle.dump(doc_labels_bg, open(f'{DATA_DIR}/new_doc_labels_bg.p', 'wb'))\n",
        "\n",
        "pickle.dump(vocab_sm, open(f'{DATA_DIR}/new_vocab_sm.p', 'wb'))\n",
        "pickle.dump(vocab_bg, open(f'{DATA_DIR}/new_vocab_bg.p', 'wb'))"
      ],
      "metadata": {
        "id": "zNyWm_EISN7u"
      },
      "execution_count": null,
      "outputs": []
    }
  ],
  "metadata": {
    "colab": {
      "provenance": [],
      "toc_visible": true,
      "authorship_tag": "ABX9TyPPhvuaLnq1kjhunlydyAvF"
    },
    "kernelspec": {
      "display_name": "Python 3",
      "name": "python3"
    },
    "language_info": {
      "name": "python"
    }
  },
  "nbformat": 4,
  "nbformat_minor": 0
}