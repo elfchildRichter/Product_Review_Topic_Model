{
  "cells": [
    {
      "cell_type": "markdown",
      "source": [
        "# Import and Setting"
      ],
      "metadata": {
        "id": "22VQsQIJQeME"
      }
    },
    {
      "cell_type": "code",
      "execution_count": null,
      "metadata": {
        "colab": {
          "base_uri": "https://localhost:8080/"
        },
        "id": "1pMpGRC3ygsm",
        "outputId": "dee884d3-bac1-4b1a-b8c6-ceb9e8b7495f"
      },
      "outputs": [
        {
          "output_type": "stream",
          "name": "stdout",
          "text": [
            "Mounted at /content/drive\n"
          ]
        }
      ],
      "source": [
        "from google.colab import drive\n",
        "drive.mount('/content/drive')"
      ]
    },
    {
      "cell_type": "code",
      "execution_count": null,
      "metadata": {
        "id": "UEzm7gOSAdAI"
      },
      "outputs": [],
      "source": [
        "import warnings\n",
        "import pandas as pd\n",
        "import numpy as np\n",
        "import random\n",
        "\n",
        "from textblob import TextBlob\n",
        "import operator\n",
        "import itertools\n",
        "import gzip\n",
        "import json\n",
        "\n",
        "import matplotlib.pyplot as plt\n",
        "import seaborn as sns\n",
        "\n",
        "SEED = 2004\n",
        "warnings.filterwarnings(\"ignore\")\n",
        "np.set_printoptions(precision=5)\n",
        "random.seed(SEED)\n",
        "\n",
        "DIR = '/content/drive/My Drive/dtsa5799_product_review_topic_model'\n",
        "DATA_DIR = f'{DIR}/data'\n",
        "META_PATH = f'{DATA_DIR}/meta_Clothing_Shoes_and_Jewelry.jsonl.gz'\n",
        "REVIEW_PATH = f'{DATA_DIR}/reviews_Clothing_Shoes_and_Jewelry.json.gz'"
      ]
    },
    {
      "cell_type": "markdown",
      "metadata": {
        "id": "ik7G5JQ-wmhd"
      },
      "source": [
        "# Data"
      ]
    },
    {
      "cell_type": "code",
      "source": [
        "# product data\n",
        "with gzip.open(META_PATH, 'rt') as f:\n",
        "    line = f.readline()\n",
        "    data = json.loads(line)\n",
        "    print(json.dumps(data, indent=4))"
      ],
      "metadata": {
        "colab": {
          "base_uri": "https://localhost:8080/"
        },
        "id": "qrWHKnWNBEFK",
        "outputId": "d1ddfdd9-1941-4be9-a7b6-a9a73926d94d"
      },
      "execution_count": null,
      "outputs": [
        {
          "output_type": "stream",
          "name": "stdout",
          "text": [
            "{\n",
            "    \"asin\": \"0000037214\",\n",
            "    \"related\": {\n",
            "        \"also_viewed\": [\n",
            "            \"B00JO8II76\",\n",
            "            \"B00DGN4R1Q\",\n",
            "            \"B00E1YRI4C\"\n",
            "        ]\n",
            "    },\n",
            "    \"title\": \"Purple Sequin Tiny Dancer Tutu Ballet Dance Fairy Princess Costume Accessory\",\n",
            "    \"price\": 6.99,\n",
            "    \"salesRank\": {\n",
            "        \"Clothing\": 1233557\n",
            "    },\n",
            "    \"imUrl\": \"http://ecx.images-amazon.com/images/I/31mCncNuAZL.jpg\",\n",
            "    \"brand\": \"Big Dreams\",\n",
            "    \"categories\": [\n",
            "        [\n",
            "            \"Clothing, Shoes & Jewelry\",\n",
            "            \"Girls\"\n",
            "        ],\n",
            "        [\n",
            "            \"Clothing, Shoes & Jewelry\",\n",
            "            \"Novelty, Costumes & More\",\n",
            "            \"Costumes & Accessories\",\n",
            "            \"More Accessories\",\n",
            "            \"Kids & Baby\"\n",
            "        ]\n",
            "    ]\n",
            "}\n"
          ]
        }
      ]
    },
    {
      "cell_type": "code",
      "source": [
        "# review data\n",
        "with gzip.open(REVIEW_PATH, 'rt') as f:\n",
        "    line = f.readline()\n",
        "    data = json.loads(line)\n",
        "    print(json.dumps(data, indent=4))"
      ],
      "metadata": {
        "colab": {
          "base_uri": "https://localhost:8080/"
        },
        "id": "UYDCRXhCBMUX",
        "outputId": "4dc34fe4-69c6-4005-bceb-f83c12d314b6"
      },
      "execution_count": null,
      "outputs": [
        {
          "output_type": "stream",
          "name": "stdout",
          "text": [
            "{\n",
            "    \"reviewerID\": \"A2XVJBSRI3SWDI\",\n",
            "    \"asin\": \"0000031887\",\n",
            "    \"reviewerName\": \"abigail\",\n",
            "    \"helpful\": [\n",
            "        0,\n",
            "        0\n",
            "    ],\n",
            "    \"reviewText\": \"Perfect red tutu for the price. I baught it as part of my daughters Halloween costume and it looked great on her.\",\n",
            "    \"overall\": 5.0,\n",
            "    \"summary\": \"Nice tutu\",\n",
            "    \"unixReviewTime\": 1383523200,\n",
            "    \"reviewTime\": \"11 4, 2013\"\n",
            "}\n"
          ]
        }
      ]
    },
    {
      "cell_type": "markdown",
      "metadata": {
        "id": "eDHTj0ojvlpr"
      },
      "source": [
        "### 'nike' asins and sales_ranks list\n",
        "\n",
        "get the dictionary for nike products and their sales_rank"
      ]
    },
    {
      "cell_type": "code",
      "source": [
        "sales_ranks = {}\n",
        "\n",
        "with gzip.open(META_PATH) as products:\n",
        "    for product in products:\n",
        "        data = json.loads(product)\n",
        "        categories = [c.lower() for c in\n",
        "                      list(itertools.chain(*data.get(\"categories\", [])))]\n",
        "        if \"nike\" in categories:\n",
        "            if data.get('salesRank'):\n",
        "              asin = data.get('asin', None)\n",
        "              if asin:\n",
        "                rank = list(data['salesRank'].values())[0]\n",
        "                sales_ranks[data['asin']] = rank\n",
        "\n",
        "print(f'{len(sales_ranks)} asins: sales_ranks for nike products has been collected.')\n",
        "print(f'dic example: {list(sales_ranks.items())[:3]}')"
      ],
      "metadata": {
        "colab": {
          "base_uri": "https://localhost:8080/"
        },
        "id": "MT0e2R8YBPNE",
        "outputId": "77e3bb76-24cf-490c-f5f8-4d08cd502f64"
      },
      "execution_count": null,
      "outputs": [
        {
          "output_type": "stream",
          "name": "stdout",
          "text": [
            "7962 asins: sales_ranks for nike products has been collected.\n",
            "dic example: [('B0000V9K32', 67039), ('B0000V9K3W', 102054), ('B0000V9K46', 116131)]\n"
          ]
        }
      ]
    },
    {
      "cell_type": "markdown",
      "metadata": {
        "id": "PQ6osoLDvn9Y"
      },
      "source": [
        "### best sale asins"
      ]
    },
    {
      "cell_type": "code",
      "execution_count": null,
      "metadata": {
        "colab": {
          "base_uri": "https://localhost:8080/"
        },
        "id": "7nelGTUhvptI",
        "outputId": "f2663c5d-db6e-4d1e-8693-ca5f17fe4834"
      },
      "outputs": [
        {
          "output_type": "execute_result",
          "data": {
            "text/plain": [
              "[('B00EQBFL62', 179),\n",
              " ('B00EQBEWMQ', 179),\n",
              " ('B00EQBEUXC', 179),\n",
              " ('B00EQBGOTA', 179),\n",
              " ('B006RBH2PW', 188),\n",
              " ('B00AMTY3UC', 209),\n",
              " ('B00D8M3Q3U', 272),\n",
              " ('B00527DJAY', 318),\n",
              " ('B00527DIXW', 318),\n",
              " ('B00BUDLR1C', 337)]"
            ]
          },
          "metadata": {},
          "execution_count": 6
        }
      ],
      "source": [
        "ordered_asin_ranks = sorted(sales_ranks.items(), key=operator.itemgetter(1))\n",
        "ordered_asin_ranks[:10]"
      ]
    },
    {
      "cell_type": "code",
      "source": [
        "# inspect the product rank vs. it's count\n",
        "plot = sns.histplot(list(sales_ranks.values()))\n",
        "plt.xlabel('Sales Rank')\n",
        "plt.title('Distribution of Sales Ranks');"
      ],
      "metadata": {
        "colab": {
          "base_uri": "https://localhost:8080/",
          "height": 472
        },
        "id": "qdS-N8dmBdMn",
        "outputId": "8a215367-8aad-4ad6-b21c-b893cea87abd"
      },
      "execution_count": null,
      "outputs": [
        {
          "output_type": "display_data",
          "data": {
            "text/plain": [
              "<Figure size 640x480 with 1 Axes>"
            ],
            "image/png": "[encoded data removed]"
          },
          "metadata": {}
        }
      ]
    },
    {
      "cell_type": "code",
      "execution_count": null,
      "metadata": {
        "colab": {
          "base_uri": "https://localhost:8080/"
        },
        "id": "kxZja8pGvtHZ",
        "outputId": "611a2527-144d-4868-b5b4-2a7b5f5d92dc"
      },
      "outputs": [
        {
          "output_type": "stream",
          "name": "stdout",
          "text": [
            "2875 best sale Asins\n",
            "best Asins example: ['B00D987BJ8', 'B00D8GOT1Y', 'B00JVSOTS6']\n"
          ]
        }
      ],
      "source": [
        "# select the asins by filtering sales_rank < 100000\n",
        "# get the list of best_asins\n",
        "best_asins_set = {asin for asin, rank in sales_ranks.items() if rank < 1e5}\n",
        "best_asins = list(best_asins_set)\n",
        "print(f'{len(best_asins)} best sale Asins')\n",
        "print(f'best Asins example: {best_asins[:3]}')"
      ]
    },
    {
      "cell_type": "code",
      "execution_count": null,
      "metadata": {
        "id": "f_v_noMuvuzP"
      },
      "outputs": [],
      "source": [
        "# save list best_asins as bestnikeasins.txt\n",
        "with open('%s/bestnikeasins.txt' % DATA_DIR, 'w') as f:\n",
        "    f.write(','.join(best_asins))"
      ]
    },
    {
      "cell_type": "markdown",
      "metadata": {
        "id": "OkCDSlB0vwym"
      },
      "source": [
        "### all reviews for best sale nike products"
      ]
    },
    {
      "cell_type": "code",
      "execution_count": null,
      "metadata": {
        "colab": {
          "base_uri": "https://localhost:8080/"
        },
        "id": "C4u-aP9Fh5v2",
        "outputId": "a4d0606f-01f3-47df-819d-296c1620b319"
      },
      "outputs": [
        {
          "output_type": "stream",
          "name": "stdout",
          "text": [
            "13380 reviews for nike products has been collected.\n"
          ]
        }
      ],
      "source": [
        "# get the reviews from the list of best_asins\n",
        "top_texts = {}\n",
        "\n",
        "with gzip.open(REVIEW_PATH) as reviews:\n",
        "    for review in reviews:\n",
        "        data = json.loads(review)\n",
        "        if data[\"asin\"] in best_asins:\n",
        "            re_id = data.get('reviewerID', \"\")\n",
        "            id = f\"{data['asin']}.{data['reviewerID']}\"\n",
        "            text = data.get(\"reviewText\", \"\").strip()\n",
        "            if text:\n",
        "                top_texts[id] = text\n",
        "\n",
        "print(f'{len(top_texts)} reviews for nike products has been collected.')"
      ]
    },
    {
      "cell_type": "markdown",
      "metadata": {
        "id": "YPX1yoh62jbT"
      },
      "source": [
        "### sentiments"
      ]
    },
    {
      "cell_type": "code",
      "execution_count": null,
      "metadata": {
        "colab": {
          "base_uri": "https://localhost:8080/"
        },
        "id": "7weE3W_m2i4R",
        "outputId": "b4c3e5bf-911d-4803-fe9e-ff7d614ace5f"
      },
      "outputs": [
        {
          "output_type": "stream",
          "name": "stdout",
          "text": [
            "0 B0001YMVVG.A2DSHG06KR889 I used to have the same watch before but I lost it , so I ordered it through Amazon as I like it so \n",
            "This text is positive.\n",
            "----------------------------\n",
            "1 B0001YMVVG.AL1LOR30J0T85 The watch is great! Came in a few days and was in brand new condition, as expected.\n",
            "This text is positive.\n",
            "----------------------------\n",
            "2 B0001YMVVG.AC7VTHM5OYZI6 This watch is sporty, lightweight, easy to take on and off.  I'm a nurse and wash my hands often so \n",
            "This text is positive.\n",
            "----------------------------\n",
            "3 B0001YMVVG.A1PWHZ59G8XRJD Watch was very small and barely fit my 6 year-old daughter's wrist.  And she has a small frame!  Str\n",
            "This text is negative.\n",
            "----------------------------\n",
            "4 B0001YMVVQ.A3M4BEKZEN439P I enjoy the convenience of this watch! It is very easy to slip on and off and the glo feature is ver\n",
            "This text is positive.\n",
            "----------------------------\n"
          ]
        }
      ],
      "source": [
        "for i, (id, text) in enumerate(list(top_texts.items())[30:35]):\n",
        "    print(i, id, text[:100])\n",
        "    if TextBlob(text).sentiment.polarity < 0.0:\n",
        "      print('This text is negative.')\n",
        "    elif TextBlob(text).sentiment.polarity > 0.0:\n",
        "      print('This text is positive.')\n",
        "    else:\n",
        "      print('This text is neural.')\n",
        "    print('----------------------------')"
      ]
    },
    {
      "cell_type": "code",
      "execution_count": null,
      "metadata": {
        "id": "TJu9lazBv5cp"
      },
      "outputs": [],
      "source": [
        "# save dict top_texts as top_reviewstext.jsonl\n",
        "with open('%s/top_reviewstext.jsonl' % DATA_DIR, 'w') as top_reviewtext:\n",
        "    for id, text in top_texts.items():\n",
        "        data = {str(id): text}\n",
        "        data_json = json.dumps(data)\n",
        "        top_reviewtext.write(f'{data_json}\\n')"
      ]
    }
  ],
  "metadata": {
    "colab": {
      "provenance": [],
      "authorship_tag": "ABX9TyMWRpGLOI80Ocny3/C21LI6"
    },
    "kernelspec": {
      "display_name": "Python 3",
      "name": "python3"
    },
    "language_info": {
      "name": "python"
    }
  },
  "nbformat": 4,
  "nbformat_minor": 0
}